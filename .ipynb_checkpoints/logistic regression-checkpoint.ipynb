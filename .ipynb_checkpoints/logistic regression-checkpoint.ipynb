{
 "cells": [
  {
   "cell_type": "code",
   "execution_count": 1,
   "metadata": {},
   "outputs": [],
   "source": [
    "import numpy as np\n",
    "import pandas as pd\n",
    "import matplotlib.pyplot as plt\n",
    "import seaborn as sns"
   ]
  },
  {
   "cell_type": "code",
   "execution_count": 2,
   "metadata": {},
   "outputs": [],
   "source": [
    "raw_data = pd.read_csv('data.csv')"
   ]
  },
  {
   "cell_type": "code",
   "execution_count": 3,
   "metadata": {},
   "outputs": [],
   "source": [
    "#endode label\n",
    "data = raw_data.copy()\n",
    "from sklearn.preprocessing import LabelEncoder \n",
    "le = LabelEncoder() \n",
    "data['diagnosis']= le.fit_transform(data['diagnosis']) "
   ]
  },
  {
   "cell_type": "code",
   "execution_count": 4,
   "metadata": {},
   "outputs": [],
   "source": [
    "y = data['diagnosis']\n",
    "del data['diagnosis']\n",
    "del data['id']\n",
    "del data['Unnamed: 32']\n",
    "X = data.copy()"
   ]
  },
  {
   "cell_type": "code",
   "execution_count": 5,
   "metadata": {},
   "outputs": [],
   "source": [
    "intercept = np.ones((X.shape[0], 1))\n",
    "X = np.concatenate((intercept, X), axis=1)"
   ]
  },
  {
   "cell_type": "code",
   "execution_count": 6,
   "metadata": {},
   "outputs": [],
   "source": [
    "#split data into training and test\n",
    "from sklearn.model_selection import train_test_split\n",
    "X_train, X_test, y_train, y_test = train_test_split(X, y, test_size=0.27, random_state=42)"
   ]
  },
  {
   "cell_type": "code",
   "execution_count": 7,
   "metadata": {},
   "outputs": [],
   "source": [
    "y_train = np.array(y_train).reshape(y_train.shape[0],1) \n",
    "y_test = np.array(y_test).reshape(y_test.shape[0],1) "
   ]
  },
  {
   "cell_type": "code",
   "execution_count": 8,
   "metadata": {},
   "outputs": [],
   "source": [
    "# Sacaling data\n",
    "from sklearn.preprocessing import StandardScaler\n",
    "sc = StandardScaler()\n",
    "X_train = sc.fit_transform(X_train)\n",
    "X_test = sc.transform(X_test)"
   ]
  },
  {
   "cell_type": "code",
   "execution_count": 9,
   "metadata": {},
   "outputs": [
    {
     "data": {
      "text/html": [
       "<div>\n",
       "<style scoped>\n",
       "    .dataframe tbody tr th:only-of-type {\n",
       "        vertical-align: middle;\n",
       "    }\n",
       "\n",
       "    .dataframe tbody tr th {\n",
       "        vertical-align: top;\n",
       "    }\n",
       "\n",
       "    .dataframe thead th {\n",
       "        text-align: right;\n",
       "    }\n",
       "</style>\n",
       "<table border=\"1\" class=\"dataframe\">\n",
       "  <thead>\n",
       "    <tr style=\"text-align: right;\">\n",
       "      <th></th>\n",
       "      <th>id</th>\n",
       "      <th>diagnosis</th>\n",
       "      <th>radius_mean</th>\n",
       "      <th>texture_mean</th>\n",
       "      <th>perimeter_mean</th>\n",
       "      <th>area_mean</th>\n",
       "      <th>smoothness_mean</th>\n",
       "      <th>compactness_mean</th>\n",
       "      <th>concavity_mean</th>\n",
       "      <th>concave points_mean</th>\n",
       "      <th>...</th>\n",
       "      <th>texture_worst</th>\n",
       "      <th>perimeter_worst</th>\n",
       "      <th>area_worst</th>\n",
       "      <th>smoothness_worst</th>\n",
       "      <th>compactness_worst</th>\n",
       "      <th>concavity_worst</th>\n",
       "      <th>concave points_worst</th>\n",
       "      <th>symmetry_worst</th>\n",
       "      <th>fractal_dimension_worst</th>\n",
       "      <th>Unnamed: 32</th>\n",
       "    </tr>\n",
       "  </thead>\n",
       "  <tbody>\n",
       "    <tr>\n",
       "      <th>0</th>\n",
       "      <td>842302</td>\n",
       "      <td>M</td>\n",
       "      <td>17.99</td>\n",
       "      <td>10.38</td>\n",
       "      <td>122.80</td>\n",
       "      <td>1001.0</td>\n",
       "      <td>0.11840</td>\n",
       "      <td>0.27760</td>\n",
       "      <td>0.3001</td>\n",
       "      <td>0.14710</td>\n",
       "      <td>...</td>\n",
       "      <td>17.33</td>\n",
       "      <td>184.60</td>\n",
       "      <td>2019.0</td>\n",
       "      <td>0.1622</td>\n",
       "      <td>0.6656</td>\n",
       "      <td>0.7119</td>\n",
       "      <td>0.2654</td>\n",
       "      <td>0.4601</td>\n",
       "      <td>0.11890</td>\n",
       "      <td>NaN</td>\n",
       "    </tr>\n",
       "    <tr>\n",
       "      <th>1</th>\n",
       "      <td>842517</td>\n",
       "      <td>M</td>\n",
       "      <td>20.57</td>\n",
       "      <td>17.77</td>\n",
       "      <td>132.90</td>\n",
       "      <td>1326.0</td>\n",
       "      <td>0.08474</td>\n",
       "      <td>0.07864</td>\n",
       "      <td>0.0869</td>\n",
       "      <td>0.07017</td>\n",
       "      <td>...</td>\n",
       "      <td>23.41</td>\n",
       "      <td>158.80</td>\n",
       "      <td>1956.0</td>\n",
       "      <td>0.1238</td>\n",
       "      <td>0.1866</td>\n",
       "      <td>0.2416</td>\n",
       "      <td>0.1860</td>\n",
       "      <td>0.2750</td>\n",
       "      <td>0.08902</td>\n",
       "      <td>NaN</td>\n",
       "    </tr>\n",
       "    <tr>\n",
       "      <th>2</th>\n",
       "      <td>84300903</td>\n",
       "      <td>M</td>\n",
       "      <td>19.69</td>\n",
       "      <td>21.25</td>\n",
       "      <td>130.00</td>\n",
       "      <td>1203.0</td>\n",
       "      <td>0.10960</td>\n",
       "      <td>0.15990</td>\n",
       "      <td>0.1974</td>\n",
       "      <td>0.12790</td>\n",
       "      <td>...</td>\n",
       "      <td>25.53</td>\n",
       "      <td>152.50</td>\n",
       "      <td>1709.0</td>\n",
       "      <td>0.1444</td>\n",
       "      <td>0.4245</td>\n",
       "      <td>0.4504</td>\n",
       "      <td>0.2430</td>\n",
       "      <td>0.3613</td>\n",
       "      <td>0.08758</td>\n",
       "      <td>NaN</td>\n",
       "    </tr>\n",
       "    <tr>\n",
       "      <th>3</th>\n",
       "      <td>84348301</td>\n",
       "      <td>M</td>\n",
       "      <td>11.42</td>\n",
       "      <td>20.38</td>\n",
       "      <td>77.58</td>\n",
       "      <td>386.1</td>\n",
       "      <td>0.14250</td>\n",
       "      <td>0.28390</td>\n",
       "      <td>0.2414</td>\n",
       "      <td>0.10520</td>\n",
       "      <td>...</td>\n",
       "      <td>26.50</td>\n",
       "      <td>98.87</td>\n",
       "      <td>567.7</td>\n",
       "      <td>0.2098</td>\n",
       "      <td>0.8663</td>\n",
       "      <td>0.6869</td>\n",
       "      <td>0.2575</td>\n",
       "      <td>0.6638</td>\n",
       "      <td>0.17300</td>\n",
       "      <td>NaN</td>\n",
       "    </tr>\n",
       "    <tr>\n",
       "      <th>4</th>\n",
       "      <td>84358402</td>\n",
       "      <td>M</td>\n",
       "      <td>20.29</td>\n",
       "      <td>14.34</td>\n",
       "      <td>135.10</td>\n",
       "      <td>1297.0</td>\n",
       "      <td>0.10030</td>\n",
       "      <td>0.13280</td>\n",
       "      <td>0.1980</td>\n",
       "      <td>0.10430</td>\n",
       "      <td>...</td>\n",
       "      <td>16.67</td>\n",
       "      <td>152.20</td>\n",
       "      <td>1575.0</td>\n",
       "      <td>0.1374</td>\n",
       "      <td>0.2050</td>\n",
       "      <td>0.4000</td>\n",
       "      <td>0.1625</td>\n",
       "      <td>0.2364</td>\n",
       "      <td>0.07678</td>\n",
       "      <td>NaN</td>\n",
       "    </tr>\n",
       "  </tbody>\n",
       "</table>\n",
       "<p>5 rows × 33 columns</p>\n",
       "</div>"
      ],
      "text/plain": [
       "         id diagnosis  radius_mean  texture_mean  perimeter_mean  area_mean  \\\n",
       "0    842302         M        17.99         10.38          122.80     1001.0   \n",
       "1    842517         M        20.57         17.77          132.90     1326.0   \n",
       "2  84300903         M        19.69         21.25          130.00     1203.0   \n",
       "3  84348301         M        11.42         20.38           77.58      386.1   \n",
       "4  84358402         M        20.29         14.34          135.10     1297.0   \n",
       "\n",
       "   smoothness_mean  compactness_mean  concavity_mean  concave points_mean  \\\n",
       "0          0.11840           0.27760          0.3001              0.14710   \n",
       "1          0.08474           0.07864          0.0869              0.07017   \n",
       "2          0.10960           0.15990          0.1974              0.12790   \n",
       "3          0.14250           0.28390          0.2414              0.10520   \n",
       "4          0.10030           0.13280          0.1980              0.10430   \n",
       "\n",
       "   ...  texture_worst  perimeter_worst  area_worst  smoothness_worst  \\\n",
       "0  ...          17.33           184.60      2019.0            0.1622   \n",
       "1  ...          23.41           158.80      1956.0            0.1238   \n",
       "2  ...          25.53           152.50      1709.0            0.1444   \n",
       "3  ...          26.50            98.87       567.7            0.2098   \n",
       "4  ...          16.67           152.20      1575.0            0.1374   \n",
       "\n",
       "   compactness_worst  concavity_worst  concave points_worst  symmetry_worst  \\\n",
       "0             0.6656           0.7119                0.2654          0.4601   \n",
       "1             0.1866           0.2416                0.1860          0.2750   \n",
       "2             0.4245           0.4504                0.2430          0.3613   \n",
       "3             0.8663           0.6869                0.2575          0.6638   \n",
       "4             0.2050           0.4000                0.1625          0.2364   \n",
       "\n",
       "   fractal_dimension_worst  Unnamed: 32  \n",
       "0                  0.11890          NaN  \n",
       "1                  0.08902          NaN  \n",
       "2                  0.08758          NaN  \n",
       "3                  0.17300          NaN  \n",
       "4                  0.07678          NaN  \n",
       "\n",
       "[5 rows x 33 columns]"
      ]
     },
     "execution_count": 9,
     "metadata": {},
     "output_type": "execute_result"
    }
   ],
   "source": [
    "raw_data.head()"
   ]
  },
  {
   "cell_type": "code",
   "execution_count": 10,
   "metadata": {},
   "outputs": [
    {
     "data": {
      "image/png": "[encoded data removed]",
      "text/plain": [
       "<Figure size 648x432 with 1 Axes>"
      ]
     },
     "metadata": {
      "needs_background": "light"
     },
     "output_type": "display_data"
    }
   ],
   "source": [
    "fig,ax = plt.subplots(figsize = (9,6))\n",
    "ax = sns.scatterplot(data = raw_data,x = 'radius_mean',y ='texture_mean',hue = 'diagnosis',size = 'diagnosis')"
   ]
  },
  {
   "cell_type": "markdown",
   "metadata": {},
   "source": [
    "### Logistic Regression"
   ]
  },
  {
   "cell_type": "code",
   "execution_count": 11,
   "metadata": {},
   "outputs": [],
   "source": [
    "class LogisticRegreesion():\n",
    "    def __init__(self,eta = 0.01,epoch = 500, publish = False):\n",
    "        self.eta = eta\n",
    "        self.epoch = epoch\n",
    "        self.publish = publish\n",
    "    \n",
    "    \n",
    "    def sigmoid_activation(self,x):\n",
    "        return 1./(1.+np.exp(-x))\n",
    "    \n",
    "    def cal_cost(self,x,y,w):\n",
    "        z = np.dot(x,w)\n",
    "        loss = y_train * np.log(self.sigmoid_activation(z)) + (1 - y_train) * np.log((1 - self.sigmoid_activation(z)))\n",
    "        return -1/2 * np.sum(loss,axis = 0)\n",
    "    \n",
    "    def fit(self,X,y):\n",
    "        self.weights = np.zeros(X.shape[1])\n",
    "        self.weights = self.weights.reshape(self.weights.shape[0],1)         \n",
    "        self.costs = []\n",
    "        for i in range(self.epoch):\n",
    "            cost = self.cal_cost(X,y,self.weights)\n",
    "            z = np.dot(X,self.weights)\n",
    "            error = -(y_train-self.sigmoid_activation(z))\n",
    "            self.weights = self.weights - self.eta * np.dot(X.T,error)\n",
    "            self.costs.append(cost[0])\n",
    "            if self.publish and i%100 == 0 :\n",
    "                print(f'Epoch: {i} Cost: {cost}')\n",
    "                \n",
    "    def costs(self):\n",
    "        return np.array(self.costs)\n",
    "    \n",
    "    def weights(self):\n",
    "        return np.array(self.weights)\n",
    "    \n",
    "    def predict(self,X):\n",
    "        res = self.sigmoid_activation(np.dot(X,self.weights))\n",
    "        prediction = np.array([1 if r >= 0.5 else 0 for r in res])\n",
    "        return prediction.reshape(prediction.shape[0],1)\n",
    "        \n",
    "    def accuracy(self,X,y):\n",
    "        y_pred = self.predict(X)\n",
    "        acc= np.sum(y_pred == y)/len(y)\n",
    "        return acc*100"
   ]
  },
  {
   "cell_type": "code",
   "execution_count": 12,
   "metadata": {},
   "outputs": [
    {
     "name": "stdout",
     "output_type": "stream",
     "text": [
      "Epoch 50 eta 0.001\n",
      "Train Accuracy 97.349\n",
      "Test Accuracy 97.403\n",
      "\n",
      "Epoch 50 eta 0.01\n",
      "Train Accuracy 98.313\n",
      "Test Accuracy 99.351\n",
      "\n",
      "Epoch 50 eta 0.1\n",
      "Train Accuracy 98.554\n",
      "Test Accuracy 98.052\n",
      "\n",
      "Epoch 100 eta 0.001\n",
      "Train Accuracy 98.072\n",
      "Test Accuracy 98.052\n",
      "\n",
      "Epoch 100 eta 0.01\n",
      "Train Accuracy 98.795\n",
      "Test Accuracy 98.052\n",
      "\n",
      "Epoch 100 eta 0.1\n",
      "Train Accuracy 98.554\n",
      "Test Accuracy 97.403\n",
      "\n",
      "Epoch 500 eta 0.001\n",
      "Train Accuracy 98.313\n",
      "Test Accuracy 98.701\n",
      "\n",
      "Epoch 500 eta 0.01\n",
      "Train Accuracy 99.036\n",
      "Test Accuracy 97.403\n",
      "\n",
      "Epoch 500 eta 0.1\n",
      "Train Accuracy 99.518\n",
      "Test Accuracy 96.104\n",
      "\n",
      "Epoch 1000 eta 0.001\n",
      "Train Accuracy "
     ]
    },
    {
     "name": "stderr",
     "output_type": "stream",
     "text": [
      "C:\\Users\\DK BORBORAH\\conda\\lib\\site-packages\\ipykernel_launcher.py:13: RuntimeWarning: divide by zero encountered in log\n",
      "  del sys.path[0]\n",
      "C:\\Users\\DK BORBORAH\\conda\\lib\\site-packages\\ipykernel_launcher.py:13: RuntimeWarning: invalid value encountered in multiply\n",
      "  del sys.path[0]\n"
     ]
    },
    {
     "name": "stdout",
     "output_type": "stream",
     "text": [
      "98.795\n",
      "Test Accuracy 98.052\n",
      "\n",
      "Epoch 1000 eta 0.01\n",
      "Train Accuracy 99.036\n",
      "Test Accuracy 96.753\n",
      "\n",
      "Epoch 1000 eta 0.1\n",
      "Train Accuracy 99.518\n",
      "Test Accuracy 92.857\n",
      "\n",
      "Epoch 2000 eta 0.001\n",
      "Train Accuracy 98.795\n",
      "Test Accuracy 98.052\n",
      "\n",
      "Epoch 2000 eta 0.01\n",
      "Train Accuracy 99.518\n",
      "Test Accuracy 96.753\n",
      "\n",
      "Epoch 2000 eta 0.1\n",
      "Train Accuracy 99.759\n",
      "Test Accuracy 92.857\n",
      "\n",
      "Epoch 5000 eta 0.001\n",
      "Train Accuracy 99.036\n",
      "Test Accuracy 97.403\n",
      "\n",
      "Epoch 5000 eta 0.01\n",
      "Train Accuracy 99.518\n",
      "Test Accuracy 95.455\n",
      "\n",
      "Epoch 5000 eta 0.1\n",
      "Train Accuracy 100.0\n",
      "Test Accuracy 92.208\n",
      "\n",
      "Epoch 10000 eta 0.001\n",
      "Train Accuracy 99.036\n",
      "Test Accuracy 96.753\n",
      "\n",
      "Epoch 10000 eta 0.01\n",
      "Train Accuracy 99.518\n",
      "Test Accuracy 92.857\n",
      "\n",
      "Epoch 10000 eta 0.1\n",
      "Train Accuracy 100.0\n",
      "Test Accuracy 92.208\n",
      "\n"
     ]
    }
   ],
   "source": [
    "epochs = [50,100,500,1000,2000,5000,10000]\n",
    "etas = [0.001,0.01,0.1]\n",
    "for epoch in epochs:\n",
    "    for eta in etas:\n",
    "        lr = LogisticRegreesion(eta = eta,epoch = epoch,publish = False)\n",
    "        lr.fit(X_train,y_train)\n",
    "        print(f'Epoch {epoch} eta {eta}')\n",
    "        print('Train Accuracy',end =' ')\n",
    "        print(lr.accuracy(X_train,y_train).round(3))\n",
    "        print('Test Accuracy',end =' ')\n",
    "        print(lr.accuracy(X_test,y_test).round(3))\n",
    "        print()"
   ]
  },
  {
   "cell_type": "code",
   "execution_count": 13,
   "metadata": {},
   "outputs": [
    {
     "name": "stdout",
     "output_type": "stream",
     "text": [
      "Train Accuracy 98.313\n",
      "Test Accuracy 99.351\n"
     ]
    },
    {
     "name": "stderr",
     "output_type": "stream",
     "text": [
      "C:\\Users\\DK BORBORAH\\conda\\lib\\site-packages\\ipykernel_launcher.py:13: RuntimeWarning: divide by zero encountered in log\n",
      "  del sys.path[0]\n",
      "C:\\Users\\DK BORBORAH\\conda\\lib\\site-packages\\ipykernel_launcher.py:13: RuntimeWarning: invalid value encountered in multiply\n",
      "  del sys.path[0]\n"
     ]
    }
   ],
   "source": [
    "epoch =  50 \n",
    "eta =  0.01\n",
    "lr = LogisticRegreesion(epoch = epoch,eta = eta,publish = False)\n",
    "lr.fit(X_train,y_train)\n",
    "print('Train Accuracy',end =' ')\n",
    "print(lr.accuracy(X_train,y_train).round(3))\n",
    "print('Test Accuracy',end =' ')\n",
    "print(lr.accuracy(X_test,y_test).round(3))"
   ]
  },
  {
   "cell_type": "markdown",
   "metadata": {},
   "source": [
    "### Sklearn Logistic Regression"
   ]
  },
  {
   "cell_type": "code",
   "execution_count": 14,
   "metadata": {},
   "outputs": [],
   "source": [
    "from sklearn.linear_model import LogisticRegression"
   ]
  },
  {
   "cell_type": "code",
   "execution_count": 15,
   "metadata": {},
   "outputs": [],
   "source": [
    "clf = LogisticRegression(random_state=0).fit(X_train, y_train.reshape(y_train.shape[0],))"
   ]
  },
  {
   "cell_type": "code",
   "execution_count": 16,
   "metadata": {},
   "outputs": [
    {
     "name": "stdout",
     "output_type": "stream",
     "text": [
      "Test Accuracy 98.1\n",
      "Train Accuracy 98.8\n"
     ]
    }
   ],
   "source": [
    "print(f'Test Accuracy {clf.score(X_test,y_test).round(3) * 100}')\n",
    "print(f'Train Accuracy {clf.score(X_train,y_train).round(3) * 100}')"
   ]
  },
  {
   "cell_type": "code",
   "execution_count": null,
   "metadata": {},
   "outputs": [],
   "source": []
  }
 ],
 "metadata": {
  "kernelspec": {
   "display_name": "Python 3",
   "language": "python",
   "name": "python3"
  },
  "language_info": {
   "codemirror_mode": {
    "name": "ipython",
    "version": 3
   },
   "file_extension": ".py",
   "mimetype": "text/x-python",
   "name": "python",
   "nbconvert_exporter": "python",
   "pygments_lexer": "ipython3",
   "version": "3.7.9"
  }
 },
 "nbformat": 4,
 "nbformat_minor": 4
}
